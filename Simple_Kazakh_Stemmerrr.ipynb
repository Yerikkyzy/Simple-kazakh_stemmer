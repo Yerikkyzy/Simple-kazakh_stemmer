{
  "nbformat": 4,
  "nbformat_minor": 0,
  "metadata": {
    "colab": {
      "name": "Simple_Kazakh_Stemmerrr.ipynb",
      "provenance": [],
      "collapsed_sections": []
    },
    "kernelspec": {
      "name": "python3",
      "display_name": "Python 3"
    },
    "language_info": {
      "name": "python"
    }
  },
  "cells": [
    {
      "cell_type": "code",
      "metadata": {
        "id": "v-iNUdUfsiq7"
      },
      "source": [
        "import numpy as np\n",
        "from nltk.tokenize import word_tokenize #library-> module -> fuction"
      ],
      "execution_count": null,
      "outputs": []
    },
    {
      "cell_type": "code",
      "metadata": {
        "id": "UpAeuvYXFt2q"
      },
      "source": [
        ""
      ],
      "execution_count": null,
      "outputs": []
    },
    {
      "cell_type": "code",
      "metadata": {
        "colab": {
          "base_uri": "https://localhost:8080/"
        },
        "id": "BlVVDLIu14p-",
        "outputId": "90862b00-5f27-47a4-e9bd-372e63abce0e"
      },
      "source": [
        "#Initialize consonant and vowel Kazakh letters and Specific text with corresponding corpus,stopwords\n",
        "consonant_ = 'б, в, г, ғ, д, ж, з, й, к, қ, л, м, н, ң, п, р, с, т, у, һ, ф, х, ц, ш, ч, щ'\n",
        "vowel_ = 'а, ә, е, и, о, ө, ү, y, ұ, ы, і, э'\n",
        "vowel_ =vowel_.split(',')\n",
        "consonant_= consonant_.split(',')\n",
        "consonant = []\n",
        "vowel = []\n",
        "\n",
        "for c in consonant_:\n",
        "  consonant.append(c.split()[0])\n",
        "\n",
        "for v in vowel_:\n",
        "  vowel.append(v.split()[0])\n",
        "\n",
        "  print('The consonant letters in Kazakh language:',consonant,len(consonant))\n",
        "  print('The vowel letters in Kazakh language:',vowel, len(vowel))"
      ],
      "execution_count": null,
      "outputs": [
        {
          "output_type": "stream",
          "text": [
            "The consonant letters in Kazakh language: ['б', 'в', 'г', 'ғ', 'д', 'ж', 'з', 'й', 'к', 'қ', 'л', 'м', 'н', 'ң', 'п', 'р', 'с', 'т', 'у', 'һ', 'ф', 'х', 'ц', 'ш', 'ч', 'щ'] 26\n",
            "The vowel letters in Kazakh language: ['а'] 1\n",
            "The consonant letters in Kazakh language: ['б', 'в', 'г', 'ғ', 'д', 'ж', 'з', 'й', 'к', 'қ', 'л', 'м', 'н', 'ң', 'п', 'р', 'с', 'т', 'у', 'һ', 'ф', 'х', 'ц', 'ш', 'ч', 'щ'] 26\n",
            "The vowel letters in Kazakh language: ['а', 'ә'] 2\n",
            "The consonant letters in Kazakh language: ['б', 'в', 'г', 'ғ', 'д', 'ж', 'з', 'й', 'к', 'қ', 'л', 'м', 'н', 'ң', 'п', 'р', 'с', 'т', 'у', 'һ', 'ф', 'х', 'ц', 'ш', 'ч', 'щ'] 26\n",
            "The vowel letters in Kazakh language: ['а', 'ә', 'е'] 3\n",
            "The consonant letters in Kazakh language: ['б', 'в', 'г', 'ғ', 'д', 'ж', 'з', 'й', 'к', 'қ', 'л', 'м', 'н', 'ң', 'п', 'р', 'с', 'т', 'у', 'һ', 'ф', 'х', 'ц', 'ш', 'ч', 'щ'] 26\n",
            "The vowel letters in Kazakh language: ['а', 'ә', 'е', 'и'] 4\n",
            "The consonant letters in Kazakh language: ['б', 'в', 'г', 'ғ', 'д', 'ж', 'з', 'й', 'к', 'қ', 'л', 'м', 'н', 'ң', 'п', 'р', 'с', 'т', 'у', 'һ', 'ф', 'х', 'ц', 'ш', 'ч', 'щ'] 26\n",
            "The vowel letters in Kazakh language: ['а', 'ә', 'е', 'и', 'о'] 5\n",
            "The consonant letters in Kazakh language: ['б', 'в', 'г', 'ғ', 'д', 'ж', 'з', 'й', 'к', 'қ', 'л', 'м', 'н', 'ң', 'п', 'р', 'с', 'т', 'у', 'һ', 'ф', 'х', 'ц', 'ш', 'ч', 'щ'] 26\n",
            "The vowel letters in Kazakh language: ['а', 'ә', 'е', 'и', 'о', 'ө'] 6\n",
            "The consonant letters in Kazakh language: ['б', 'в', 'г', 'ғ', 'д', 'ж', 'з', 'й', 'к', 'қ', 'л', 'м', 'н', 'ң', 'п', 'р', 'с', 'т', 'у', 'һ', 'ф', 'х', 'ц', 'ш', 'ч', 'щ'] 26\n",
            "The vowel letters in Kazakh language: ['а', 'ә', 'е', 'и', 'о', 'ө', 'ү'] 7\n",
            "The consonant letters in Kazakh language: ['б', 'в', 'г', 'ғ', 'д', 'ж', 'з', 'й', 'к', 'қ', 'л', 'м', 'н', 'ң', 'п', 'р', 'с', 'т', 'у', 'һ', 'ф', 'х', 'ц', 'ш', 'ч', 'щ'] 26\n",
            "The vowel letters in Kazakh language: ['а', 'ә', 'е', 'и', 'о', 'ө', 'ү', 'y'] 8\n",
            "The consonant letters in Kazakh language: ['б', 'в', 'г', 'ғ', 'д', 'ж', 'з', 'й', 'к', 'қ', 'л', 'м', 'н', 'ң', 'п', 'р', 'с', 'т', 'у', 'һ', 'ф', 'х', 'ц', 'ш', 'ч', 'щ'] 26\n",
            "The vowel letters in Kazakh language: ['а', 'ә', 'е', 'и', 'о', 'ө', 'ү', 'y', 'ұ'] 9\n",
            "The consonant letters in Kazakh language: ['б', 'в', 'г', 'ғ', 'д', 'ж', 'з', 'й', 'к', 'қ', 'л', 'м', 'н', 'ң', 'п', 'р', 'с', 'т', 'у', 'һ', 'ф', 'х', 'ц', 'ш', 'ч', 'щ'] 26\n",
            "The vowel letters in Kazakh language: ['а', 'ә', 'е', 'и', 'о', 'ө', 'ү', 'y', 'ұ', 'ы'] 10\n",
            "The consonant letters in Kazakh language: ['б', 'в', 'г', 'ғ', 'д', 'ж', 'з', 'й', 'к', 'қ', 'л', 'м', 'н', 'ң', 'п', 'р', 'с', 'т', 'у', 'һ', 'ф', 'х', 'ц', 'ш', 'ч', 'щ'] 26\n",
            "The vowel letters in Kazakh language: ['а', 'ә', 'е', 'и', 'о', 'ө', 'ү', 'y', 'ұ', 'ы', 'і'] 11\n",
            "The consonant letters in Kazakh language: ['б', 'в', 'г', 'ғ', 'д', 'ж', 'з', 'й', 'к', 'қ', 'л', 'м', 'н', 'ң', 'п', 'р', 'с', 'т', 'у', 'һ', 'ф', 'х', 'ц', 'ш', 'ч', 'щ'] 26\n",
            "The vowel letters in Kazakh language: ['а', 'ә', 'е', 'и', 'о', 'ө', 'ү', 'y', 'ұ', 'ы', 'і', 'э'] 12\n"
          ],
          "name": "stdout"
        }
      ]
    },
    {
      "cell_type": "code",
      "metadata": {
        "id": "ZCJjlbZ-5sgF"
      },
      "source": [
        ""
      ],
      "execution_count": null,
      "outputs": []
    },
    {
      "cell_type": "markdown",
      "metadata": {
        "id": "U0K53tH15ECU"
      },
      "source": [
        ""
      ]
    }
  ]
}